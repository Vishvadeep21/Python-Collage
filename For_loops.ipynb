{
  "nbformat": 4,
  "nbformat_minor": 0,
  "metadata": {
    "colab": {
      "provenance": [],
      "authorship_tag": "ABX9TyMZ4uwSALWMoz9q7Ci7pNHM",
      "include_colab_link": true
    },
    "kernelspec": {
      "name": "python3",
      "display_name": "Python 3"
    },
    "language_info": {
      "name": "python"
    }
  },
  "cells": [
    {
      "cell_type": "markdown",
      "metadata": {
        "id": "view-in-github",
        "colab_type": "text"
      },
      "source": [
        "<a href=\"https://colab.research.google.com/github/Vishvadeep21/Python-Collage/blob/main/For_loops.ipynb\" target=\"_parent\"><img src=\"https://colab.research.google.com/assets/colab-badge.svg\" alt=\"Open In Colab\"/></a>"
      ]
    },
    {
      "cell_type": "code",
      "execution_count": null,
      "metadata": {
        "colab": {
          "base_uri": "https://localhost:8080/"
        },
        "id": "L_WiiV8LzgSF",
        "outputId": "8dce7eba-2883-4643-bf2d-71a67657a7fd"
      },
      "outputs": [
        {
          "output_type": "stream",
          "name": "stdout",
          "text": [
            "H\n",
            "e\n",
            "l\n",
            "l\n",
            " \n",
            "w\n",
            "r\n",
            "l\n",
            "d\n"
          ]
        }
      ],
      "source": [
        "s1=\"Hello world\"\n",
        "for i in s1:\n",
        "  if i==\"o\":\n",
        "    continue\n",
        "  print(i)\n",
        "# continue skips and moves to next iteration"
      ]
    },
    {
      "cell_type": "code",
      "source": [
        "l1=[\"Apple\",1,\"Banana\",2]\n",
        "for i in l1:\n",
        "  print(i)\n"
      ],
      "metadata": {
        "colab": {
          "base_uri": "https://localhost:8080/"
        },
        "id": "Otjt6Uny00xy",
        "outputId": "b2a0159b-2dc0-4e58-c430-2adc166e2025"
      },
      "execution_count": null,
      "outputs": [
        {
          "output_type": "stream",
          "name": "stdout",
          "text": [
            "Apple\n",
            "1\n",
            "Banana\n",
            "2\n"
          ]
        }
      ]
    }
  ]
}