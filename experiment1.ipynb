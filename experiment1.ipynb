{
  "nbformat": 4,
  "nbformat_minor": 0,
  "metadata": {
    "colab": {
      "provenance": [],
      "include_colab_link": true
    },
    "kernelspec": {
      "name": "python3",
      "display_name": "Python 3"
    },
    "language_info": {
      "name": "python"
    }
  },
  "cells": [
    {
      "cell_type": "markdown",
      "metadata": {
        "id": "view-in-github",
        "colab_type": "text"
      },
      "source": [
        "<a href=\"https://colab.research.google.com/github/Vishvadeep21/Python-Collage/blob/main/experiment1.ipynb\" target=\"_parent\"><img src=\"https://colab.research.google.com/assets/colab-badge.svg\" alt=\"Open In Colab\"/></a>"
      ]
    },
    {
      "cell_type": "code",
      "execution_count": null,
      "metadata": {
        "colab": {
          "base_uri": "https://localhost:8080/"
        },
        "id": "iJVW6D6enXLT",
        "outputId": "74ceccb2-c4bb-40ec-e98b-0880b0c12282"
      },
      "outputs": [
        {
          "output_type": "stream",
          "name": "stdout",
          "text": [
            "Hello Everyone!!!\n"
          ]
        }
      ],
      "source": [
        "print(\"Hello Everyone!!\")\n"
      ]
    },
    {
      "cell_type": "code",
      "source": [
        "print(\"Hello\")\n",
        "print(\" \")\n",
        "print(\"World\")"
      ],
      "metadata": {
        "colab": {
          "base_uri": "https://localhost:8080/"
        },
        "id": "S8GoAnmXn9lC",
        "outputId": "5d446702-5086-46b7-c1be-f44c7df9b16c"
      },
      "execution_count": null,
      "outputs": [
        {
          "output_type": "stream",
          "name": "stdout",
          "text": [
            "Hello\n",
            " \n",
            "World\n"
          ]
        }
      ]
    },
    {
      "cell_type": "code",
      "source": [
        "print(\"Hello\\n\")\n",
        "print(\"    World\")"
      ],
      "metadata": {
        "colab": {
          "base_uri": "https://localhost:8080/"
        },
        "id": "5zDdWUpOoGhU",
        "outputId": "8d46432e-bc78-46c1-cd80-cb48f8cf6336"
      },
      "execution_count": null,
      "outputs": [
        {
          "output_type": "stream",
          "name": "stdout",
          "text": [
            "Hello\n",
            "\n",
            "    World\n"
          ]
        }
      ]
    },
    {
      "cell_type": "code",
      "source": [
        "print(\" Rohit’ s date of birth is 12-05-1999\")"
      ],
      "metadata": {
        "colab": {
          "base_uri": "https://localhost:8080/"
        },
        "id": "TXSFOuKQoN2o",
        "outputId": "33f622b6-7293-4a81-cfc3-3abdc39746fa"
      },
      "execution_count": null,
      "outputs": [
        {
          "output_type": "stream",
          "name": "stdout",
          "text": [
            " Rohit’ s date of birth is 12-05-1999\n"
          ]
        }
      ]
    },
    {
      "cell_type": "code",
      "source": [
        "x= \"Hello\"\n",
        "print(x)"
      ],
      "metadata": {
        "colab": {
          "base_uri": "https://localhost:8080/"
        },
        "id": "1rYGW5BPpo6A",
        "outputId": "7a421084-db22-49e9-ded4-3bcecd387536"
      },
      "execution_count": null,
      "outputs": [
        {
          "output_type": "stream",
          "name": "stdout",
          "text": [
            "Hello\n"
          ]
        }
      ]
    },
    {
      "cell_type": "code",
      "source": [
        "x = \"Vishvadeep\" #String\n",
        "y = 1 #interger\n",
        "print(x)\n",
        "print(y)\n"
      ],
      "metadata": {
        "colab": {
          "base_uri": "https://localhost:8080/"
        },
        "id": "VZdxulR3preZ",
        "outputId": "bc8b2eb9-f89d-4e7a-dee2-4f5a44886a03"
      },
      "execution_count": null,
      "outputs": [
        {
          "output_type": "stream",
          "name": "stdout",
          "text": [
            "Vishvadeep\n",
            "1\n"
          ]
        }
      ]
    },
    {
      "cell_type": "code",
      "source": [
        "a = \"VISHVADEEP \"\n",
        "b = \"BHATIA\"\n",
        "Name = a + b\n",
        "print(Name)"
      ],
      "metadata": {
        "colab": {
          "base_uri": "https://localhost:8080/"
        },
        "id": "T4yG-ly-qpoE",
        "outputId": "37122172-bdc4-4c3e-e3a5-9086a9521033"
      },
      "execution_count": null,
      "outputs": [
        {
          "output_type": "stream",
          "name": "stdout",
          "text": [
            "VISHVADEEP BHATIA\n"
          ]
        }
      ]
    },
    {
      "cell_type": "code",
      "source": [
        "name = \"NIKUNJ BANSAL\"\n",
        "id = 500069944\n",
        "dob = \"13 Oct 1999\"\n",
        "address = \"UPES\\nBidholi Campus\\nPincode : 24800\"\n",
        "pgm = \"AI & ML\"\n",
        "sem = 2\n",
        "print(\"NAME:\", name ,\"\\n\", \"SAP ID:\",id,\"\\n\",\"DATE OF BIRTH:\",dob,\"\\n\",\"ADDRESS:\",address,\"\\n\",\"PROGRAMME:\",pgm,\"\\n\",\"SEMESTER\",sem)"
      ],
      "metadata": {
        "colab": {
          "base_uri": "https://localhost:8080/"
        },
        "id": "L6HAxcUTsCxj",
        "outputId": "9ba5c875-acd2-41e0-bfde-f483769e309d"
      },
      "execution_count": null,
      "outputs": [
        {
          "output_type": "stream",
          "name": "stdout",
          "text": [
            "NAME: NIKUNJ BANSAL \n",
            " SAP ID: 500069944 \n",
            " DATE OF BIRTH: 13 Oct 1999 \n",
            " ADDRESS: UPES\n",
            "Bidholi Campus\n",
            "Pincode : 24800 \n",
            " PROGRAMME: AI & ML \n",
            " SEMESTER 2\n"
          ]
        }
      ]
    },
    {
      "cell_type": "code",
      "source": [
        "name=input(\"Enter your first name:\")\n",
        "last=input(\"Enter your last name:\")\n",
        "nickname=input(\"Enter your nickname:\")\n",
        "print(name,\"(\",nickname,\")\",last)"
      ],
      "metadata": {
        "colab": {
          "base_uri": "https://localhost:8080/"
        },
        "id": "oMpSUvcToJxy",
        "outputId": "112fd3b6-4ebe-4ee8-c0c0-c0aa0851739e"
      },
      "execution_count": null,
      "outputs": [
        {
          "output_type": "stream",
          "name": "stdout",
          "text": [
            "Enter your first name:Vishvadeep\n",
            "Enter your last name:Bhatia\n",
            "Enter your nickname:VD\n",
            "Vishvadeep ( VD ) Bhatia\n"
          ]
        }
      ]
    }
  ]
}