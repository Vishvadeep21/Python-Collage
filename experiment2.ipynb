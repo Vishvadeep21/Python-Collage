{
  "nbformat": 4,
  "nbformat_minor": 0,
  "metadata": {
    "colab": {
      "provenance": [],
      "include_colab_link": true
    },
    "kernelspec": {
      "name": "python3",
      "display_name": "Python 3"
    },
    "language_info": {
      "name": "python"
    }
  },
  "cells": [
    {
      "cell_type": "markdown",
      "metadata": {
        "id": "view-in-github",
        "colab_type": "text"
      },
      "source": [
        "<a href=\"https://colab.research.google.com/github/Vishvadeep21/Python-Collage/blob/main/experiment2.ipynb\" target=\"_parent\"><img src=\"https://colab.research.google.com/assets/colab-badge.svg\" alt=\"Open In Colab\"/></a>"
      ]
    },
    {
      "cell_type": "code",
      "execution_count": null,
      "metadata": {
        "colab": {
          "base_uri": "https://localhost:8080/"
        },
        "id": "ZW2gR7aXuTE-",
        "outputId": "9c3aaa03-2a3f-4912-eb95-4452621a1b35"
      },
      "outputs": [
        {
          "output_type": "stream",
          "name": "stdout",
          "text": [
            "Addition: 16\n",
            "Subtraction: 2\n",
            "Multiplication: 63\n",
            "Division: 1.2857142857142858\n"
          ]
        }
      ],
      "source": [
        "x= 9\n",
        "y = 7\n",
        "print(\"Addition:\", x+y)\n",
        "print(\"Subtraction:\", x-y)\n",
        "print(\"Multiplication:\", x*y)\n",
        "print(\"Division:\", x/y)"
      ]
    },
    {
      "cell_type": "code",
      "source": [
        "radius = int(input(\"Enter Radius of circle\"))\n",
        "area = 3.14*(radius*radius)\n",
        "print(area)"
      ],
      "metadata": {
        "colab": {
          "base_uri": "https://localhost:8080/"
        },
        "id": "bt3MsL-svYMO",
        "outputId": "773fd6b2-a738-4c6a-8b64-cf4272f2fe87"
      },
      "execution_count": null,
      "outputs": [
        {
          "output_type": "stream",
          "name": "stdout",
          "text": [
            "Enter Radius of circle5\n",
            "78.5\n"
          ]
        }
      ]
    },
    {
      "cell_type": "code",
      "source": [
        "x =  4\n",
        "y = 3\n",
        "result = (x+y)*(x+y)\n",
        "print(result)"
      ],
      "metadata": {
        "colab": {
          "base_uri": "https://localhost:8080/"
        },
        "id": "52Y_1VBWwEsf",
        "outputId": "95c4f72c-633e-42d0-dace-4875257ab970"
      },
      "execution_count": null,
      "outputs": [
        {
          "output_type": "stream",
          "name": "stdout",
          "text": [
            "49\n"
          ]
        }
      ]
    },
    {
      "cell_type": "code",
      "source": [
        "import math\n",
        "a = float(input(\"Enter Perpendicular\"))\n",
        "b = float(input(\"Enter Base\"))\n",
        "c = math.sqrt(a**2 + b**2)\n",
        "print(\"Hypotenuse is\", c)\n",
        "\n"
      ],
      "metadata": {
        "colab": {
          "base_uri": "https://localhost:8080/"
        },
        "id": "cmCxO_WEwsxH",
        "outputId": "ac26fb4d-e829-491f-c357-7212307d3295"
      },
      "execution_count": null,
      "outputs": [
        {
          "output_type": "stream",
          "name": "stdout",
          "text": [
            "Enter Perpendicular3\n",
            "Enter Base4\n",
            "Hypotenuse is 5.0\n"
          ]
        }
      ]
    },
    {
      "cell_type": "code",
      "source": [
        "Principal = float(input(\"Enter the principal amount: \"))\n",
        "Rate = float(input(\"Enter the rate of interest (in %): \"))\n",
        "Time = float(input(\"Enter the time (in years): \"))\n",
        "SI = (Principal * Rate * Time) / 100\n",
        "print(\"The Simple Interest is:\", SI)\n"
      ],
      "metadata": {
        "colab": {
          "base_uri": "https://localhost:8080/"
        },
        "id": "7zqTKDcPyDm0",
        "outputId": "04638c15-5019-421b-a017-cb04cbc57a8e"
      },
      "execution_count": null,
      "outputs": [
        {
          "output_type": "stream",
          "name": "stdout",
          "text": [
            "Enter the principal amount: 500000\n",
            "Enter the rate of interest (in %): 6\n",
            "Enter the time (in years): 5\n",
            "The Simple Interest is: 150000.0\n"
          ]
        }
      ]
    },
    {
      "cell_type": "code",
      "source": [
        "import math\n",
        "a = float(input(\"Enter the length of side a: \"))\n",
        "b = float(input(\"Enter the length of side b: \"))\n",
        "c = float(input(\"Enter the length of side c: \"))\n",
        "s = (a + b + c) / 2\n",
        "\n",
        "area = math.sqrt(s * (s - a) * (s - b) * (s - c))\n",
        "\n",
        "print(\"The area of the triangle is:\", area)\n"
      ],
      "metadata": {
        "colab": {
          "base_uri": "https://localhost:8080/"
        },
        "id": "HNIgM8zYyaRI",
        "outputId": "55206125-5ca3-4848-ae9c-d1b996d51d40"
      },
      "execution_count": null,
      "outputs": [
        {
          "output_type": "stream",
          "name": "stdout",
          "text": [
            "Enter the length of side a: 6\n",
            "Enter the length of side b: 7\n",
            "Enter the length of side c: 8\n",
            "The area of the triangle is: 20.33316256758894\n"
          ]
        }
      ]
    },
    {
      "cell_type": "code",
      "source": [
        "total_sec = int(input(\"Enter the total number of seconds: \"))\n",
        "hours = total_sec // 3600\n",
        "remaining_sec = total_sec % 3600\n",
        "minutes = remaining_sec // 60\n",
        "seconds = remaining_sec % 60\n",
        "print(f\"{total_sec} seconds is equal to:\")\n",
        "print(f\"{hours} hours, {minutes} minutes, and {seconds} seconds.\")\n"
      ],
      "metadata": {
        "colab": {
          "base_uri": "https://localhost:8080/"
        },
        "id": "wrdfDksuyzhx",
        "outputId": "badce0ac-3e50-4fbc-a6ce-f58a4e1a40a0"
      },
      "execution_count": null,
      "outputs": [
        {
          "output_type": "stream",
          "name": "stdout",
          "text": [
            "Enter the total number of seconds: 60\n",
            "60 seconds is equal to:\n",
            "0 hours, 1 minutes, and 0 seconds.\n"
          ]
        }
      ]
    },
    {
      "cell_type": "code",
      "source": [
        "\n",
        "a = int(input(\"Enter the first number (a): \"))\n",
        "b = int(input(\"Enter the second number (b): \"))\n",
        "a = a + b\n",
        "b = a - b\n",
        "a = a - b\n",
        "print(\"After swapping:\")\n",
        "print(f\"First number (a): {a}\")\n",
        "print(f\"Second number (b): {b}\")\n"
      ],
      "metadata": {
        "colab": {
          "base_uri": "https://localhost:8080/"
        },
        "id": "WbeJvCKhzUFM",
        "outputId": "d78e4a53-f567-49b8-c69b-6d7d315ff086"
      },
      "execution_count": null,
      "outputs": [
        {
          "output_type": "stream",
          "name": "stdout",
          "text": [
            "Enter the first number (a): 5\n",
            "Enter the second number (b): 4\n",
            "After swapping:\n",
            "First number (a): 4\n",
            "Second number (b): 5\n"
          ]
        }
      ]
    },
    {
      "cell_type": "code",
      "source": [
        "n = int(input(\"Enter the value of n: \"))\n",
        "sum_of_numbers = n * (n + 1) // 2\n",
        "print(f\"The sum of the first {n} natural numbers is: {sum_of_numbers}\")\n"
      ],
      "metadata": {
        "colab": {
          "base_uri": "https://localhost:8080/"
        },
        "id": "BJqsxJh-0D6x",
        "outputId": "a59bc4d1-53c0-4a01-efc8-637218f452a0"
      },
      "execution_count": null,
      "outputs": [
        {
          "output_type": "stream",
          "name": "stdout",
          "text": [
            "Enter the value of n: 5\n",
            "The sum of the first 5 natural numbers is: 15\n"
          ]
        }
      ]
    },
    {
      "cell_type": "code",
      "source": [
        "print(\"A B  A&B  A|B  A^B\")\n",
        "print(\"-\" * 20)\n",
        "for A in [0, 1]:\n",
        "    for B in [0, 1]:\n",
        "        bitwise_and = A & B\n",
        "        bitwise_or = A | B\n",
        "        bitwise_xor = A ^ B\n",
        "        print(f\"{A} {B}   {bitwise_and}    {bitwise_or}    {bitwise_xor}\")\n"
      ],
      "metadata": {
        "colab": {
          "base_uri": "https://localhost:8080/"
        },
        "id": "jdA08yLu0rz4",
        "outputId": "2014231b-35e6-41fb-939e-301457f2c583"
      },
      "execution_count": null,
      "outputs": [
        {
          "output_type": "stream",
          "name": "stdout",
          "text": [
            "A B  A&B  A|B  A^B\n",
            "--------------------\n",
            "0 0   0    0    0\n",
            "0 1   0    1    1\n",
            "1 0   0    1    1\n",
            "1 1   1    1    0\n"
          ]
        }
      ]
    },
    {
      "cell_type": "code",
      "source": [
        "num = int(input(\"Enter a number: \"))\n",
        "s = int(input(\"Enter the number of bits to shift: \"))\n",
        "left_shift = num << s\n",
        "right_shift = num >> s\n",
        "print(f\"The result of left shifting {num} by {s} bits is: {left_shift}\")\n",
        "print(f\"The result of right shifting {num} by {s} bits is: {right_shift}\")\n"
      ],
      "metadata": {
        "colab": {
          "base_uri": "https://localhost:8080/"
        },
        "id": "KXEA3BYd1BO3",
        "outputId": "9b9ca03b-202b-412c-977f-8ad403c15f2b"
      },
      "execution_count": null,
      "outputs": [
        {
          "output_type": "stream",
          "name": "stdout",
          "text": [
            "Enter a number: 500\n",
            "Enter the number of bits to shift: 4\n",
            "The result of left shifting 500 by 4 bits is: 8000\n",
            "The result of right shifting 500 by 4 bits is: 31\n"
          ]
        }
      ]
    },
    {
      "cell_type": "code",
      "source": [
        "sequence = (10, 20, 56, 78, 89)\n",
        "number = int(input(\"Enter the number to check: \"))\n",
        "if number in sequence:\n",
        "    print(f\"{number} is in the sequence {sequence}.\")\n",
        "else:\n",
        "    print(f\"{number} is not in the sequence {sequence}.\")\n"
      ],
      "metadata": {
        "colab": {
          "base_uri": "https://localhost:8080/"
        },
        "id": "dWKx8efe1lLH",
        "outputId": "a025051e-050a-4100-eade-77b71c0bde2c"
      },
      "execution_count": null,
      "outputs": [
        {
          "output_type": "stream",
          "name": "stdout",
          "text": [
            "Enter the number to check: 12\n",
            "12 is not in the sequence (10, 20, 56, 78, 89).\n"
          ]
        }
      ]
    },
    {
      "cell_type": "code",
      "source": [
        "string = input(\"Enter a string: \")\n",
        "char = input(\"Enter a character to check: \")\n",
        "if char in string:\n",
        "    print(f\"'{char}' is in the string '{string}'.\")\n",
        "else:\n",
        "    print(f\"'{char}' is not in the string '{string}'.\")\n"
      ],
      "metadata": {
        "colab": {
          "base_uri": "https://localhost:8080/"
        },
        "id": "u0RS-hDT17cw",
        "outputId": "58339335-ab5f-41a1-b242-91d50073e357"
      },
      "execution_count": null,
      "outputs": [
        {
          "output_type": "stream",
          "name": "stdout",
          "text": [
            "Enter a string: HELLO\n",
            "Enter a character to check: z\n",
            "'z' is not in the string 'HELLO'.\n"
          ]
        }
      ]
    },
    {
      "cell_type": "code",
      "source": [],
      "metadata": {
        "id": "sUEX07FN4Vuy"
      },
      "execution_count": null,
      "outputs": []
    }
  ]
}