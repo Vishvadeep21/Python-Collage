{
  "nbformat": 4,
  "nbformat_minor": 0,
  "metadata": {
    "colab": {
      "provenance": [],
      "authorship_tag": "ABX9TyPiSg1UcF5/HM53i/oFn2d9",
      "include_colab_link": true
    },
    "kernelspec": {
      "name": "python3",
      "display_name": "Python 3"
    },
    "language_info": {
      "name": "python"
    }
  },
  "cells": [
    {
      "cell_type": "markdown",
      "metadata": {
        "id": "view-in-github",
        "colab_type": "text"
      },
      "source": [
        "<a href=\"https://colab.research.google.com/github/Vishvadeep21/Python-lab/blob/main/strings.ipynb\" target=\"_parent\"><img src=\"https://colab.research.google.com/assets/colab-badge.svg\" alt=\"Open In Colab\"/></a>"
      ]
    },
    {
      "cell_type": "code",
      "execution_count": 1,
      "metadata": {
        "colab": {
          "base_uri": "https://localhost:8080/"
        },
        "id": "pbKVss5wSFi1",
        "outputId": "280e5a93-16d2-4f75-f44f-9770d1f6be86"
      },
      "outputs": [
        {
          "output_type": "stream",
          "name": "stdout",
          "text": [
            "Vishvadeep\n",
            "Vishvadeep\n",
            "hello,\n",
            "my name is -\n",
            "Vishvadeep\n"
          ]
        }
      ],
      "source": [
        "# Strings\n",
        "a=\"Vishvadeep\"\n",
        "b='Vishvadeep'\n",
        "# for writing multiline string we use '''  '''\n",
        "c='''hello,\n",
        "my name is -\n",
        "Vishvadeep'''\n",
        "print(a)\n",
        "print(b)\n",
        "print(c)"
      ]
    },
    {
      "cell_type": "code",
      "source": [
        "# Operations on string\n",
        "# multiplying the strings\n",
        "a=\"Hello\"\n",
        "print(a*5)"
      ],
      "metadata": {
        "colab": {
          "base_uri": "https://localhost:8080/"
        },
        "id": "ykjiqzQtTGmG",
        "outputId": "05e44284-bf52-448a-fd38-d4087b820657"
      },
      "execution_count": 2,
      "outputs": [
        {
          "output_type": "stream",
          "name": "stdout",
          "text": [
            "HelloHelloHelloHelloHello\n"
          ]
        }
      ]
    },
    {
      "cell_type": "code",
      "source": [
        "# String slicing\n",
        "b=\"hello this is Vishvadeep\"\n",
        "print(b[11:13])\n",
        "print(b[::-1]) #will reverse\n",
        "# syntax:- b[start:stop:step]\n",
        "# it will stop one value before"
      ],
      "metadata": {
        "colab": {
          "base_uri": "https://localhost:8080/"
        },
        "id": "aSnSYZJCUPPR",
        "outputId": "ac38ffe6-813c-4b89-9bea-992592aabe0d"
      },
      "execution_count": 5,
      "outputs": [
        {
          "output_type": "stream",
          "name": "stdout",
          "text": [
            "is\n",
            "peedavhsiV si siht olleh\n"
          ]
        }
      ]
    },
    {
      "cell_type": "code",
      "source": [
        "# using type function we can see the type of value stored in the variable\n",
        "# syntax: type(variable)\n",
        "str=\"Vishvadeep\"\n",
        "print(type(str))"
      ],
      "metadata": {
        "colab": {
          "base_uri": "https://localhost:8080/"
        },
        "id": "NnmRQJPRU6NH",
        "outputId": "809c2f96-485f-4538-8ea7-bcbfb1d04f6d"
      },
      "execution_count": 4,
      "outputs": [
        {
          "output_type": "stream",
          "name": "stdout",
          "text": [
            "<class 'str'>\n"
          ]
        }
      ]
    },
    {
      "cell_type": "code",
      "source": [
        "# wap to concatinate two strings\n",
        "a=\"Vishvadeep\"\n",
        "b=\"Bhatia\"\n",
        "print(a+b)"
      ],
      "metadata": {
        "colab": {
          "base_uri": "https://localhost:8080/"
        },
        "id": "nJWDSgcjWehA",
        "outputId": "09583846-9ace-4306-913c-cc2024b16402"
      },
      "execution_count": 6,
      "outputs": [
        {
          "output_type": "stream",
          "name": "stdout",
          "text": [
            "VishvadeepBhatia\n"
          ]
        }
      ]
    },
    {
      "cell_type": "code",
      "source": [
        "# QUESTION: take a multi str and extract the relevant word\n",
        "# Immutability of strings\n",
        "a=\"HELLO WORLD\"\n",
        "a[0:6]=\"WORLD\"\n",
        "print(a)"
      ],
      "metadata": {
        "colab": {
          "base_uri": "https://localhost:8080/",
          "height": 193
        },
        "id": "XLKs9LMbW0IC",
        "outputId": "e38c3d52-9648-4b03-a8e5-0e88102dafa5"
      },
      "execution_count": 7,
      "outputs": [
        {
          "output_type": "error",
          "ename": "TypeError",
          "evalue": "'str' object does not support item assignment",
          "traceback": [
            "\u001b[0;31m---------------------------------------------------------------------------\u001b[0m",
            "\u001b[0;31mTypeError\u001b[0m                                 Traceback (most recent call last)",
            "\u001b[0;32m<ipython-input-7-5c19adbaec74>\u001b[0m in \u001b[0;36m<cell line: 4>\u001b[0;34m()\u001b[0m\n\u001b[1;32m      2\u001b[0m \u001b[0;31m# Immutability of strings\u001b[0m\u001b[0;34m\u001b[0m\u001b[0;34m\u001b[0m\u001b[0m\n\u001b[1;32m      3\u001b[0m \u001b[0ma\u001b[0m\u001b[0;34m=\u001b[0m\u001b[0;34m\"HELLO WORLD\"\u001b[0m\u001b[0;34m\u001b[0m\u001b[0;34m\u001b[0m\u001b[0m\n\u001b[0;32m----> 4\u001b[0;31m \u001b[0ma\u001b[0m\u001b[0;34m[\u001b[0m\u001b[0;36m0\u001b[0m\u001b[0;34m:\u001b[0m\u001b[0;36m6\u001b[0m\u001b[0;34m]\u001b[0m\u001b[0;34m=\u001b[0m\u001b[0;34m\"WORLD\"\u001b[0m\u001b[0;34m\u001b[0m\u001b[0;34m\u001b[0m\u001b[0m\n\u001b[0m\u001b[1;32m      5\u001b[0m \u001b[0mprint\u001b[0m\u001b[0;34m(\u001b[0m\u001b[0ma\u001b[0m\u001b[0;34m)\u001b[0m\u001b[0;34m\u001b[0m\u001b[0;34m\u001b[0m\u001b[0m\n",
            "\u001b[0;31mTypeError\u001b[0m: 'str' object does not support item assignment"
          ]
        }
      ]
    },
    {
      "cell_type": "code",
      "source": [
        "dd=input(\"enter the date\")\n",
        "mm=input(\"enter the month\")\n",
        "yy=input(\"enter the year\")\n",
        "print(dd+\"/\"+mm+\"/\"+yy)"
      ],
      "metadata": {
        "colab": {
          "base_uri": "https://localhost:8080/"
        },
        "id": "8H_nOFZoZEOs",
        "outputId": "3bda2c26-e247-4cca-ce2e-6f49562722a5"
      },
      "execution_count": 8,
      "outputs": [
        {
          "output_type": "stream",
          "name": "stdout",
          "text": [
            "enter the date15\n",
            "enter the monthJanuary\n",
            "enter the year2025\n",
            "15/January/2025\n"
          ]
        }
      ]
    }
  ]
}