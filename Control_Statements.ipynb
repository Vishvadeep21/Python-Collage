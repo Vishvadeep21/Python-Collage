{
  "nbformat": 4,
  "nbformat_minor": 0,
  "metadata": {
    "colab": {
      "provenance": [],
      "authorship_tag": "ABX9TyMw7S9FEmy6Tonlp3lHYKde",
      "include_colab_link": true
    },
    "kernelspec": {
      "name": "python3",
      "display_name": "Python 3"
    },
    "language_info": {
      "name": "python"
    }
  },
  "cells": [
    {
      "cell_type": "markdown",
      "metadata": {
        "id": "view-in-github",
        "colab_type": "text"
      },
      "source": [
        "<a href=\"https://colab.research.google.com/github/Vishvadeep21/Python-Collage/blob/main/Control_Statements.ipynb\" target=\"_parent\"><img src=\"https://colab.research.google.com/assets/colab-badge.svg\" alt=\"Open In Colab\"/></a>"
      ]
    },
    {
      "cell_type": "code",
      "execution_count": 3,
      "metadata": {
        "id": "ZaXFTWDZa2eE",
        "colab": {
          "base_uri": "https://localhost:8080/"
        },
        "outputId": "5fb1ec72-0dde-4333-a98e-011a77670cce"
      },
      "outputs": [
        {
          "output_type": "stream",
          "name": "stdout",
          "text": [
            "Hello Vishvadeep\n",
            "Done\n",
            "110\n"
          ]
        }
      ],
      "source": [
        "from re import X\n",
        "# if statement:\n",
        "# syntax:- if 'expression':\n",
        "#                statements...\n",
        "#          else:\n",
        "#              statement...\n",
        "x=100\n",
        "if x<=100:\n",
        "  print(\"Hello Vishvadeep\")\n",
        "  x=x+10\n",
        "  print(\"Done\")\n",
        "  print(x)"
      ]
    },
    {
      "cell_type": "code",
      "source": [
        "temp=int(input(\"Enter the temprature: \"))\n",
        "if temp>30 and temp<45:\n",
        "  print(\"delhi phonch gye guru\")\n",
        "elif temp>15 and temp<30:\n",
        "  print(\"normal day in dehradun\")\n",
        "else:\n",
        "  print(\"Bhaad me jao\")"
      ],
      "metadata": {
        "colab": {
          "base_uri": "https://localhost:8080/"
        },
        "id": "dy3xSakSDifI",
        "outputId": "3721dab7-44ec-4b86-f4be-5fe274ec466f"
      },
      "execution_count": 8,
      "outputs": [
        {
          "output_type": "stream",
          "name": "stdout",
          "text": [
            "Enter the temprature: 25\n",
            "normal day in dehradun\n"
          ]
        }
      ]
    },
    {
      "cell_type": "code",
      "source": [
        "# wap for weight conversion\n",
        "weight=int(input(\"Enter the weight: \"))\n",
        "unit=input(\"Enter the unit: \")\n",
        "conversion=input(\"enter the unit you wwant to convert in: \")\n",
        "if unit==\"kg\" or unit==\"KG\" and conversion==\"g\":\n",
        "  w=weight*1000\n",
        "  print(\"the weight in grams is: \")\n",
        "  print(w)\n",
        "elif unit==\"g\" or unit==\"G\" and conversion==\"kg\":\n",
        "  w=weight/1000\n",
        "  print(\"the weight in kg is: \")\n",
        "  print(w)\n",
        "elif unit==\"lb\" or unit==\"LB\" and conversion==\"kg\":\n",
        "  w=weight*2.2\n",
        "  print(\"the weight in kg is: \")\n",
        "  print(w)\n",
        "elif unit==\"kg\" or unit==\"KG\" and conversion==\"lb\":\n",
        "    a=weight/2.2\n",
        "    print(\"the weight in Lb is: \")\n",
        "    print(a)"
      ],
      "metadata": {
        "colab": {
          "base_uri": "https://localhost:8080/"
        },
        "id": "BGhgduplGD0l",
        "outputId": "57cb3dfd-f704-43a1-fef5-10de1e5c0536"
      },
      "execution_count": 17,
      "outputs": [
        {
          "output_type": "stream",
          "name": "stdout",
          "text": [
            "Enter the weight: 210\n",
            "Enter the unit: lb\n",
            "enter the unit you wwant to convert in: kg\n",
            "the weight in kg is: \n",
            "462.00000000000006\n"
          ]
        }
      ]
    },
    {
      "cell_type": "code",
      "source": [],
      "metadata": {
        "id": "KFmIfp7wKBLi"
      },
      "execution_count": null,
      "outputs": []
    }
  ]
}