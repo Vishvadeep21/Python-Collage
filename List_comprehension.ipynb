{
  "nbformat": 4,
  "nbformat_minor": 0,
  "metadata": {
    "colab": {
      "provenance": [],
      "authorship_tag": "ABX9TyM4tkebH6W7187amG+GGU77",
      "include_colab_link": true
    },
    "kernelspec": {
      "name": "python3",
      "display_name": "Python 3"
    },
    "language_info": {
      "name": "python"
    }
  },
  "cells": [
    {
      "cell_type": "markdown",
      "metadata": {
        "id": "view-in-github",
        "colab_type": "text"
      },
      "source": [
        "<a href=\"https://colab.research.google.com/github/Vishvadeep21/Python-Collage/blob/main/List_comprehension.ipynb\" target=\"_parent\"><img src=\"https://colab.research.google.com/assets/colab-badge.svg\" alt=\"Open In Colab\"/></a>"
      ]
    },
    {
      "cell_type": "code",
      "execution_count": 1,
      "metadata": {
        "colab": {
          "base_uri": "https://localhost:8080/"
        },
        "id": "PEgV7uvp3fjU",
        "outputId": "80f1871f-76be-4bee-ae0c-94ae8807c229"
      },
      "outputs": [
        {
          "output_type": "stream",
          "name": "stdout",
          "text": [
            "[0, 1, 4, 9, 16, 25, 36, 49, 64, 81, 100, 121, 144, 169, 196, 225, 256, 289, 324, 361, 400, 441, 484, 529, 576, 625, 676, 729, 784, 841, 900, 961, 1024, 1089, 1156, 1225, 1296, 1369, 1444, 1521, 1600, 1681, 1764, 1849, 1936, 2025, 2116, 2209, 2304, 2401, 2500, 2601, 2704, 2809, 2916, 3025, 3136, 3249, 3364, 3481, 3600, 3721, 3844, 3969, 4096, 4225, 4356, 4489, 4624, 4761, 4900, 5041, 5184, 5329, 5476, 5625, 5776, 5929, 6084, 6241, 6400, 6561, 6724, 6889, 7056, 7225, 7396, 7569, 7744, 7921, 8100, 8281, 8464, 8649, 8836, 9025, 9216, 9409, 9604, 9801, 10000]\n"
          ]
        }
      ],
      "source": [
        "l=[]\n",
        "for i in range(101):\n",
        "  i=i**2\n",
        "  l.append(i)\n",
        "print(l)"
      ]
    },
    {
      "cell_type": "code",
      "source": [
        "l=[i**2 for i in range(101)]\n",
        "print(l)"
      ],
      "metadata": {
        "colab": {
          "base_uri": "https://localhost:8080/"
        },
        "id": "L9LY7Lo8DzP1",
        "outputId": "aa172968-ffdb-46aa-c444-2e58a5bb23b5"
      },
      "execution_count": 20,
      "outputs": [
        {
          "output_type": "stream",
          "name": "stdout",
          "text": [
            "[0, 1, 4, 9, 16, 25, 36, 49, 64, 81, 100, 121, 144, 169, 196, 225, 256, 289, 324, 361, 400, 441, 484, 529, 576, 625, 676, 729, 784, 841, 900, 961, 1024, 1089, 1156, 1225, 1296, 1369, 1444, 1521, 1600, 1681, 1764, 1849, 1936, 2025, 2116, 2209, 2304, 2401, 2500, 2601, 2704, 2809, 2916, 3025, 3136, 3249, 3364, 3481, 3600, 3721, 3844, 3969, 4096, 4225, 4356, 4489, 4624, 4761, 4900, 5041, 5184, 5329, 5476, 5625, 5776, 5929, 6084, 6241, 6400, 6561, 6724, 6889, 7056, 7225, 7396, 7569, 7744, 7921, 8100, 8281, 8464, 8649, 8836, 9025, 9216, 9409, 9604, 9801, 10000]\n"
          ]
        }
      ]
    },
    {
      "cell_type": "code",
      "source": [
        "l=[i for i in range(200) if i % 3==0 or i % 5==0 or i %7==0]\n",
        "print(l)"
      ],
      "metadata": {
        "colab": {
          "base_uri": "https://localhost:8080/"
        },
        "id": "x0iVHASK4t4z",
        "outputId": "ffb635c7-5bcd-4a46-95d3-6c2d9211ec20"
      },
      "execution_count": 6,
      "outputs": [
        {
          "output_type": "stream",
          "name": "stdout",
          "text": [
            "[0, 3, 5, 6, 7, 9, 10, 12, 14, 15, 18, 20, 21, 24, 25, 27, 28, 30, 33, 35, 36, 39, 40, 42, 45, 48, 49, 50, 51, 54, 55, 56, 57, 60, 63, 65, 66, 69, 70, 72, 75, 77, 78, 80, 81, 84, 85, 87, 90, 91, 93, 95, 96, 98, 99, 100, 102, 105, 108, 110, 111, 112, 114, 115, 117, 119, 120, 123, 125, 126, 129, 130, 132, 133, 135, 138, 140, 141, 144, 145, 147, 150, 153, 154, 155, 156, 159, 160, 161, 162, 165, 168, 170, 171, 174, 175, 177, 180, 182, 183, 185, 186, 189, 190, 192, 195, 196, 198]\n"
          ]
        }
      ]
    },
    {
      "cell_type": "markdown",
      "source": [
        "wap to print armstrong numbers upto 1000 using list comprehension.\n"
      ],
      "metadata": {
        "id": "DjrTujXK8g4R"
      }
    },
    {
      "cell_type": "code",
      "source": [
        "l1=[i for i in range(1,1000) if i==sum(int(j)**len(str(i)) for j in str(i))]\n",
        "print(l1)"
      ],
      "metadata": {
        "colab": {
          "base_uri": "https://localhost:8080/"
        },
        "id": "aSPcMIxR8glk",
        "outputId": "1e284c70-3bb4-4857-befd-7bd6c30e23aa"
      },
      "execution_count": 18,
      "outputs": [
        {
          "output_type": "stream",
          "name": "stdout",
          "text": [
            "[1, 2, 3, 4, 5, 6, 7, 8, 9, 153, 370, 371, 407]\n"
          ]
        }
      ]
    }
  ]
}