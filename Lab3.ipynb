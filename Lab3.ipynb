{
  "nbformat": 4,
  "nbformat_minor": 0,
  "metadata": {
    "colab": {
      "provenance": [],
      "authorship_tag": "ABX9TyNsP10plli4PJ1ITa0OpX25",
      "include_colab_link": true
    },
    "kernelspec": {
      "name": "python3",
      "display_name": "Python 3"
    },
    "language_info": {
      "name": "python"
    }
  },
  "cells": [
    {
      "cell_type": "markdown",
      "metadata": {
        "id": "view-in-github",
        "colab_type": "text"
      },
      "source": [
        "<a href=\"https://colab.research.google.com/github/Vishvadeep21/Python-lab/blob/main/Lab3.ipynb\" target=\"_parent\"><img src=\"https://colab.research.google.com/assets/colab-badge.svg\" alt=\"Open In Colab\"/></a>"
      ]
    },
    {
      "cell_type": "code",
      "execution_count": 1,
      "metadata": {
        "colab": {
          "base_uri": "https://localhost:8080/"
        },
        "id": "PNoThMm4vu6x",
        "outputId": "2fc4349e-f73d-4437-b143-2e5d79de88f1"
      },
      "outputs": [
        {
          "output_type": "stream",
          "name": "stdout",
          "text": [
            "60\n"
          ]
        }
      ],
      "source": [
        "# KEYWORDS AND IDENTIFIERS\n",
        "# Keywords are predefined\n",
        "# \\ is used to continue to new line\n",
        "# example\n",
        "a=10+\\\n",
        "  20+\\\n",
        "  30\n",
        "print(a)"
      ]
    },
    {
      "cell_type": "code",
      "source": [
        "# taking input from user\n",
        "b=input(\"enter the number\")\n",
        "print(b)"
      ],
      "metadata": {
        "colab": {
          "base_uri": "https://localhost:8080/"
        },
        "id": "XUkgOG03wF-4",
        "outputId": "89d2eb91-0cc3-4af4-b50f-64510c520874"
      },
      "execution_count": 2,
      "outputs": [
        {
          "output_type": "stream",
          "name": "stdout",
          "text": [
            "enter the number66\n",
            "66\n"
          ]
        }
      ]
    },
    {
      "cell_type": "code",
      "source": [
        "# Taking numbers from user and adding them\n",
        "# concept of type conversion\n",
        "num1=int(input(\"enter the fiirst number\"))\n",
        "num2=int(input(\"enter the second number\"))\n",
        "s=num1+num2\n",
        "print(s)"
      ],
      "metadata": {
        "colab": {
          "base_uri": "https://localhost:8080/"
        },
        "id": "40pwMQV_weKM",
        "outputId": "5dd74359-99cc-4e97-a8c5-7c42d985e3df"
      },
      "execution_count": 3,
      "outputs": [
        {
          "output_type": "stream",
          "name": "stdout",
          "text": [
            "enter the fiirst number10\n",
            "enter the second number20\n",
            "30\n"
          ]
        }
      ]
    },
    {
      "cell_type": "code",
      "source": [
        "num1=float(input(\"enter the fiirst number\"))\n",
        "num2=float(input(\"enter the second number\"))\n",
        "s=num1+num2\n",
        "print(s)"
      ],
      "metadata": {
        "colab": {
          "base_uri": "https://localhost:8080/"
        },
        "id": "HgYcXuwbxuAG",
        "outputId": "26254fad-ff5a-40e6-f26b-716742374c53"
      },
      "execution_count": 4,
      "outputs": [
        {
          "output_type": "stream",
          "name": "stdout",
          "text": [
            "enter the fiirst number30.50\n",
            "enter the second number29.50\n",
            "60.0\n"
          ]
        }
      ]
    },
    {
      "cell_type": "code",
      "source": [
        "# Operators"
      ],
      "metadata": {
        "id": "nclKwfV-yIEn"
      },
      "execution_count": null,
      "outputs": []
    }
  ]
}