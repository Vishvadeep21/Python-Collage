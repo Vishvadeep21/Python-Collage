{
  "nbformat": 4,
  "nbformat_minor": 0,
  "metadata": {
    "colab": {
      "provenance": [],
      "authorship_tag": "ABX9TyP6FxHxrgZpBv1xx8MTfxEj",
      "include_colab_link": true
    },
    "kernelspec": {
      "name": "python3",
      "display_name": "Python 3"
    },
    "language_info": {
      "name": "python"
    }
  },
  "cells": [
    {
      "cell_type": "markdown",
      "metadata": {
        "id": "view-in-github",
        "colab_type": "text"
      },
      "source": [
        "<a href=\"https://colab.research.google.com/github/Vishvadeep21/Python-Collage/blob/main/Sets.ipynb\" target=\"_parent\"><img src=\"https://colab.research.google.com/assets/colab-badge.svg\" alt=\"Open In Colab\"/></a>"
      ]
    },
    {
      "cell_type": "code",
      "execution_count": null,
      "metadata": {
        "id": "eh7s5VkaahV9"
      },
      "outputs": [],
      "source": [
        "set_1={1,2,3,4,5,6,7,8,9,0}\n",
        "# set is a collection of items\n",
        "# set is mutable"
      ]
    },
    {
      "cell_type": "code",
      "source": [
        "# add()\n",
        "set_1={1,2,3,4,5,6,7,8,9,0}\n",
        "set_1.add(11)\n",
        "print(set_1)"
      ],
      "metadata": {
        "colab": {
          "base_uri": "https://localhost:8080/"
        },
        "id": "tB6rErTxc-sZ",
        "outputId": "5e6a9694-eee8-4594-b850-55bcb7716d76"
      },
      "execution_count": null,
      "outputs": [
        {
          "output_type": "stream",
          "name": "stdout",
          "text": [
            "{0, 1, 2, 3, 4, 5, 6, 7, 8, 9, 11}\n"
          ]
        }
      ]
    },
    {
      "cell_type": "code",
      "source": [
        "set_1={1,2,3,4,5,6,7,8,9,0}\n",
        "set_1.remove(0)\n",
        "set_1.discard(11)\n",
        "# discard is used when we dont know if the element we want to remove exist or not\n",
        "\n",
        "print(set_1)"
      ],
      "metadata": {
        "colab": {
          "base_uri": "https://localhost:8080/"
        },
        "id": "R5OulKSJdRv3",
        "outputId": "5c53ac5c-3047-4aba-f132-9ed19e1bd076"
      },
      "execution_count": null,
      "outputs": [
        {
          "output_type": "stream",
          "name": "stdout",
          "text": [
            "{1, 2, 3, 4, 5, 6, 7, 8, 9}\n"
          ]
        }
      ]
    }
  ]
}