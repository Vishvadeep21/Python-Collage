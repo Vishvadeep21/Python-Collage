{
  "nbformat": 4,
  "nbformat_minor": 0,
  "metadata": {
    "colab": {
      "provenance": [],
      "authorship_tag": "ABX9TyPF5/0YZPbeuqMFycp1Z3Yi",
      "include_colab_link": true
    },
    "kernelspec": {
      "name": "python3",
      "display_name": "Python 3"
    },
    "language_info": {
      "name": "python"
    }
  },
  "cells": [
    {
      "cell_type": "markdown",
      "metadata": {
        "id": "view-in-github",
        "colab_type": "text"
      },
      "source": [
        "<a href=\"https://colab.research.google.com/github/Vishvadeep21/Python-Collage/blob/main/Loops.ipynb\" target=\"_parent\"><img src=\"https://colab.research.google.com/assets/colab-badge.svg\" alt=\"Open In Colab\"/></a>"
      ]
    },
    {
      "cell_type": "code",
      "execution_count": null,
      "metadata": {
        "id": "9M1ku0MXTHmw",
        "colab": {
          "base_uri": "https://localhost:8080/"
        },
        "outputId": "b54d5da9-e300-49fe-d8c8-02d66e46f83a"
      },
      "outputs": [
        {
          "output_type": "stream",
          "name": "stdout",
          "text": [
            "\n",
            "*\n",
            "**\n",
            "***\n",
            "****\n",
            "*****\n",
            "******\n",
            "*******\n",
            "********\n",
            "*********\n"
          ]
        }
      ],
      "source": [
        "# while loops\n",
        "i=0\n",
        "while i<10:\n",
        "  print(i*\"*\")\n",
        "  i+=1"
      ]
    },
    {
      "cell_type": "code",
      "source": [
        "secnum=14\n",
        "guessnum=3\n",
        "counter=0\n",
        "\n",
        "while counter<guessnum:\n",
        "  num=int(input(\"Guess the number: \"))\n",
        "  if num==secnum:\n",
        "    print(\"You won!\")\n",
        "    break\n",
        "else:\n",
        "  print(\"You lost!\")"
      ],
      "metadata": {
        "colab": {
          "base_uri": "https://localhost:8080/"
        },
        "id": "ACgr4D4EWxVf",
        "outputId": "49e5d810-26c1-4c67-c989-2279ddf756de"
      },
      "execution_count": 10,
      "outputs": [
        {
          "output_type": "stream",
          "name": "stdout",
          "text": [
            "Guess the number: 14\n",
            "You won!\n"
          ]
        }
      ]
    },
    {
      "cell_type": "code",
      "source": [],
      "metadata": {
        "id": "FjygSuKnavSY"
      },
      "execution_count": null,
      "outputs": []
    }
  ]
}